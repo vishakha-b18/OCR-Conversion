{
 "cells": [
  {
   "cell_type": "markdown",
   "metadata": {
    "colab_type": "text",
    "id": "dk5OUGwpl4Yu"
   },
   "source": [
    "#### **OCR to convert image to text**"
   ]
  },
  {
   "cell_type": "markdown",
   "metadata": {
    "colab_type": "text",
    "id": "Ca1pmgEVlpjc"
   },
   "source": [
    "Since the file is an image converted to pdf using the python OCR library to convert it into text"
   ]
  },
  {
   "cell_type": "code",
   "execution_count": null,
   "metadata": {},
   "outputs": [],
   "source": [
    "#installing all relevant pacakges and utilities\n",
    "! apt-get install poppler-utils\n",
    "! apt install libtesseract-dev\n",
    "! apt install tesseract-ocr\n",
    "! apt-get install libmagickwand-dev\n",
    "! pip install Pillow\n",
    "! pip install pytesseract\n",
    "! pip install pyocr\n",
    "! pip install pytesseract\n",
    "! pip install pdf2image\n",
    "! pip install wand\n",
    "! pip install nltk\n",
    "! pip install gensim"
   ]
  },
  {
   "cell_type": "code",
   "execution_count": null,
   "metadata": {
    "colab": {},
    "colab_type": "code",
    "id": "hZlZjCW0h5Q_"
   },
   "outputs": [],
   "source": [
    "# importing all relevant libraries\n",
    "from PIL import Image \n",
    "import pytesseract \n",
    "import sys \n",
    "from pdf2image import convert_from_path \n",
    "import os \n",
    "from pdf2image import convert_from_path, convert_from_bytes\n",
    "from IPython.display import display, Image"
   ]
  },
  {
   "cell_type": "code",
   "execution_count": null,
   "metadata": {
    "colab": {
     "base_uri": "https://localhost:8080/",
     "height": 122
    },
    "colab_type": "code",
    "executionInfo": {
     "elapsed": 163591,
     "status": "ok",
     "timestamp": 1597023621523,
     "user": {
      "displayName": "Vishakha Bhattacharjee",
      "photoUrl": "",
      "userId": "02350742297867438750"
     },
     "user_tz": 240
    },
    "id": "mYY3ffpn2HAp",
    "outputId": "21c3c5e1-0f63-43df-fa15-c77fbc50b91f"
   },
   "outputs": [
    {
     "name": "stdout",
     "output_type": "stream",
     "text": [
      "Go to this URL in a browser: https://accounts.google.com/o/oauth2/auth?client_id=947318989803-6bn6qk8qdgf4n4g3pfee6491hc0brc4i.apps.googleusercontent.com&redirect_uri=urn%3aietf%3awg%3aoauth%3a2.0%3aoob&response_type=code&scope=email%20https%3a%2f%2fwww.googleapis.com%2fauth%2fdocs.test%20https%3a%2f%2fwww.googleapis.com%2fauth%2fdrive%20https%3a%2f%2fwww.googleapis.com%2fauth%2fdrive.photos.readonly%20https%3a%2f%2fwww.googleapis.com%2fauth%2fpeopleapi.readonly\n",
      "\n",
      "Enter your authorization code:\n",
      "··········\n",
      "Mounted at /gdrive\n"
     ]
    }
   ],
   "source": [
    "from google.colab import drive\n",
    "drive.mount('/gdrive')"
   ]
  },
  {
   "cell_type": "code",
   "execution_count": null,
   "metadata": {},
   "outputs": [],
   "source": [
    "%cd /gdrive/My\\ Drive/Book Download/OCR Conversion\n",
    "!ls"
   ]
  },
  {
   "cell_type": "code",
   "execution_count": null,
   "metadata": {},
   "outputs": [],
   "source": [
    "# storing the pages of the pdf\n",
    "images = convert_from_bytes(open('Book.pdf', 'rb').read(), size=800)\n",
    "display(images[0])"
   ]
  },
  {
   "cell_type": "code",
   "execution_count": null,
   "metadata": {
    "colab": {},
    "colab_type": "code",
    "id": "VSJPlB2Elo9J"
   },
   "outputs": [],
   "source": [
    "image_counter = 1\n",
    "\n",
    "for page in images: # Iterating over the pages stored\n",
    " \n",
    "    filename = \"page_\"+str(image_counter)+\".jpg\" # Declaring filename for each page of PDF as JPG \n",
    "    page.save(filename, 'JPEG')     # Saving the image of the page in system \n",
    "    image_counter = image_counter + 1"
   ]
  },
  {
   "cell_type": "code",
   "execution_count": null,
   "metadata": {
    "colab": {},
    "colab_type": "code",
    "id": "TFs4iTKElo6C"
   },
   "outputs": [],
   "source": [
    "import PIL.Image\n",
    "filelimit = image_counter-1 #counter for the total no of pages\n",
    "outfile = \"out_text.txt\" #output text file\n",
    "  \n",
    "f = open(outfile, \"a\") #opening the file in append mode\n",
    "  \n",
    "# Iterate from 1 to total number of pages \n",
    "for i in range(1, filelimit + 1): \n",
    "  \n",
    "    filename = \"page_\"+str(i)+\".jpg\"       \n",
    "    text = str(((pytesseract.image_to_string(PIL.Image.open(filename))))) # Recognize the text as string in image using pytesserct \n",
    "    text = text.replace('-\\n', '')     \n",
    "    f.write(text) # Finally, write the processed text to the file. \n",
    "\n",
    "f.close() # Close the file after writing all the text. "
   ]
  }
 ],
 "metadata": {
  "colab": {
   "authorship_tag": "ABX9TyO3T/qY2yhRP8YU7b/s8V44",
   "collapsed_sections": [],
   "name": "OCR Conversion.ipynb",
   "provenance": []
  },
  "kernelspec": {
   "display_name": "Python 3",
   "language": "python",
   "name": "python3"
  },
  "language_info": {
   "codemirror_mode": {
    "name": "ipython",
    "version": 3
   },
   "file_extension": ".py",
   "mimetype": "text/x-python",
   "name": "python",
   "nbconvert_exporter": "python",
   "pygments_lexer": "ipython3",
   "version": "3.7.7"
  }
 },
 "nbformat": 4,
 "nbformat_minor": 1
}
